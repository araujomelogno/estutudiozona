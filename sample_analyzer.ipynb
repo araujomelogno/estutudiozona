{
 "cells": [
  {
   "cell_type": "code",
   "execution_count": 1,
   "metadata": {},
   "outputs": [
    {
     "data": {
      "text/html": [
       "<div>\n",
       "<style scoped>\n",
       "    .dataframe tbody tr th:only-of-type {\n",
       "        vertical-align: middle;\n",
       "    }\n",
       "\n",
       "    .dataframe tbody tr th {\n",
       "        vertical-align: top;\n",
       "    }\n",
       "\n",
       "    .dataframe thead th {\n",
       "        text-align: right;\n",
       "    }\n",
       "</style>\n",
       "<table border=\"1\" class=\"dataframe\">\n",
       "  <thead>\n",
       "    <tr style=\"text-align: right;\">\n",
       "      <th></th>\n",
       "      <th>id</th>\n",
       "      <th>region</th>\n",
       "      <th>sexo</th>\n",
       "      <th>a1</th>\n",
       "      <th>c1a</th>\n",
       "      <th>c1b</th>\n",
       "      <th>c1c</th>\n",
       "      <th>c1d</th>\n",
       "      <th>c1e</th>\n",
       "      <th>c1f</th>\n",
       "      <th>d1</th>\n",
       "      <th>ponderador</th>\n",
       "    </tr>\n",
       "  </thead>\n",
       "  <tbody>\n",
       "    <tr>\n",
       "      <th>0</th>\n",
       "      <td>1.0</td>\n",
       "      <td>Montevideo</td>\n",
       "      <td>Hombre</td>\n",
       "      <td>Buena</td>\n",
       "      <td>0.0</td>\n",
       "      <td>1.0</td>\n",
       "      <td>0.0</td>\n",
       "      <td>1.0</td>\n",
       "      <td>0.0</td>\n",
       "      <td>0.0</td>\n",
       "      <td>50000.0</td>\n",
       "      <td>0.9</td>\n",
       "    </tr>\n",
       "    <tr>\n",
       "      <th>1</th>\n",
       "      <td>2.0</td>\n",
       "      <td>Interior</td>\n",
       "      <td>Mujer</td>\n",
       "      <td>Muy buena</td>\n",
       "      <td>0.0</td>\n",
       "      <td>1.0</td>\n",
       "      <td>0.0</td>\n",
       "      <td>1.0</td>\n",
       "      <td>0.0</td>\n",
       "      <td>0.0</td>\n",
       "      <td>90000.0</td>\n",
       "      <td>1.2</td>\n",
       "    </tr>\n",
       "    <tr>\n",
       "      <th>2</th>\n",
       "      <td>3.0</td>\n",
       "      <td>Interior</td>\n",
       "      <td>Mujer</td>\n",
       "      <td>Muy buena</td>\n",
       "      <td>0.0</td>\n",
       "      <td>1.0</td>\n",
       "      <td>0.0</td>\n",
       "      <td>1.0</td>\n",
       "      <td>0.0</td>\n",
       "      <td>0.0</td>\n",
       "      <td>120000.0</td>\n",
       "      <td>1.1</td>\n",
       "    </tr>\n",
       "    <tr>\n",
       "      <th>3</th>\n",
       "      <td>4.0</td>\n",
       "      <td>Interior</td>\n",
       "      <td>Hombre</td>\n",
       "      <td>Mala</td>\n",
       "      <td>1.0</td>\n",
       "      <td>0.0</td>\n",
       "      <td>1.0</td>\n",
       "      <td>0.0</td>\n",
       "      <td>0.0</td>\n",
       "      <td>0.0</td>\n",
       "      <td>40000.0</td>\n",
       "      <td>0.8</td>\n",
       "    </tr>\n",
       "    <tr>\n",
       "      <th>4</th>\n",
       "      <td>5.0</td>\n",
       "      <td>Interior</td>\n",
       "      <td>Hombre</td>\n",
       "      <td>NaN</td>\n",
       "      <td>1.0</td>\n",
       "      <td>0.0</td>\n",
       "      <td>0.0</td>\n",
       "      <td>0.0</td>\n",
       "      <td>1.0</td>\n",
       "      <td>0.0</td>\n",
       "      <td>30000.0</td>\n",
       "      <td>0.7</td>\n",
       "    </tr>\n",
       "  </tbody>\n",
       "</table>\n",
       "</div>"
      ],
      "text/plain": [
       "    id      region    sexo         a1  c1a  c1b  c1c  c1d  c1e  c1f        d1  \\\n",
       "0  1.0  Montevideo  Hombre      Buena  0.0  1.0  0.0  1.0  0.0  0.0   50000.0   \n",
       "1  2.0    Interior   Mujer  Muy buena  0.0  1.0  0.0  1.0  0.0  0.0   90000.0   \n",
       "2  3.0    Interior   Mujer  Muy buena  0.0  1.0  0.0  1.0  0.0  0.0  120000.0   \n",
       "3  4.0    Interior  Hombre       Mala  1.0  0.0  1.0  0.0  0.0  0.0   40000.0   \n",
       "4  5.0    Interior  Hombre        NaN  1.0  0.0  0.0  0.0  1.0  0.0   30000.0   \n",
       "\n",
       "  ponderador  \n",
       "0        0.9  \n",
       "1        1.2  \n",
       "2        1.1  \n",
       "3        0.8  \n",
       "4        0.7  "
      ]
     },
     "execution_count": 1,
     "metadata": {},
     "output_type": "execute_result"
    }
   ],
   "source": [
    "import pyreadstat\n",
    "\n",
    "df, meta = pyreadstat.read_sav(\n",
    "        \"/Users/blanc/Library/CloudStorage/GoogleDrive-dblancbellido@gmail.com/.shortcut-targets-by-id/153DRxBD4jspE3sko8JH1R6j2AYv7OrgD/PBI - Comunidad Zona/sample_dataset.sav\",\n",
    "        apply_value_formats=True,\n",
    "        formats_as_category=True,\n",
    "        formats_as_ordered_category=False\n",
    ")\n",
    "\n",
    "dict_value_labels = meta.variable_value_labels\n",
    "dict_column_labels = meta.column_names_to_labels\n",
    "\n",
    "df.head()"
   ]
  },
  {
   "cell_type": "code",
   "execution_count": 2,
   "metadata": {},
   "outputs": [
    {
     "data": {
      "text/plain": [
       "{'region': {1.0: 'Montevideo', 2.0: 'Interior'},\n",
       " 'sexo': {1.0: 'Hombre', 2.0: 'Mujer'},\n",
       " 'a1': {1.0: 'Muy buena', 2.0: 'Buena', 3.0: 'Mala', 4.0: 'Muy mala'}}"
      ]
     },
     "execution_count": 2,
     "metadata": {},
     "output_type": "execute_result"
    }
   ],
   "source": [
    "dict_value_labels"
   ]
  },
  {
   "cell_type": "code",
   "execution_count": 4,
   "metadata": {},
   "outputs": [
    {
     "data": {
      "text/plain": [
       "{'id': 'identificador',\n",
       " 'region': 'En qué región vive?',\n",
       " 'sexo': 'Cúal es su sexo?',\n",
       " 'a1': 'Cuál es su percepción sobre la economía?',\n",
       " 'c1a': 'Cuáles son los principales problemas del país? Seleccione hasta dos. (Economía)',\n",
       " 'c1b': 'Cuáles son los principales problemas del país? Seleccione hasta dos. (Educación)',\n",
       " 'c1c': 'Cuáles son los principales problemas del país? Seleccione hasta dos. (Trabajo)',\n",
       " 'c1d': 'Cuáles son los principales problemas del país? Seleccione hasta dos. (Seguridad)',\n",
       " 'c1e': 'Cuáles son los principales problemas del país? Seleccione hasta dos. (Corrupción)',\n",
       " 'c1f': 'Cuáles son los principales problemas del país? Seleccione hasta dos. (Política exterior)',\n",
       " 'd1': 'Cuál es su ingreso?',\n",
       " 'ponderador': 'Ponderador'}"
      ]
     },
     "execution_count": 4,
     "metadata": {},
     "output_type": "execute_result"
    }
   ],
   "source": [
    "dict_column_labels\n"
   ]
  }
 ],
 "metadata": {
  "kernelspec": {
   "display_name": ".venv",
   "language": "python",
   "name": "python3"
  },
  "language_info": {
   "codemirror_mode": {
    "name": "ipython",
    "version": 3
   },
   "file_extension": ".py",
   "mimetype": "text/x-python",
   "name": "python",
   "nbconvert_exporter": "python",
   "pygments_lexer": "ipython3",
   "version": "3.12.5"
  }
 },
 "nbformat": 4,
 "nbformat_minor": 2
}
